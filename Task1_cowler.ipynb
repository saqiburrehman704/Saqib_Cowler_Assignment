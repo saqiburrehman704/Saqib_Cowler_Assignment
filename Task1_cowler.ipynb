{
  "nbformat": 4,
  "nbformat_minor": 0,
  "metadata": {
    "colab": {
      "provenance": []
    },
    "kernelspec": {
      "name": "python3",
      "display_name": "Python 3"
    },
    "language_info": {
      "name": "python"
    }
  },
  "cells": [
    {
      "cell_type": "markdown",
      "source": [
        "#In this task i have used 3 different models to predict car prices. Performed EDA and data cleaning before training."
      ],
      "metadata": {
        "id": "Twf05jPW7CVB"
      }
    },
    {
      "cell_type": "markdown",
      "source": [
        "#Imported Regression Models and other libraries"
      ],
      "metadata": {
        "id": "MnWuuHmS7bz8"
      }
    },
    {
      "cell_type": "code",
      "execution_count": 1,
      "metadata": {
        "id": "PBN8ZvagkfEa"
      },
      "outputs": [],
      "source": [
        "import numpy as np\n",
        "import pandas as pd\n",
        "import csv\n",
        "import matplotlib.pyplot as plt\n",
        "from sklearn.metrics import r2_score\n",
        "from IPython.core.display import deepcopy\n",
        "from sklearn.preprocessing import StandardScaler,LabelEncoder\n",
        "from sklearn.model_selection import train_test_split\n",
        "from sklearn.linear_model import LinearRegression\n",
        "from sklearn.preprocessing import PolynomialFeatures\n",
        "from sklearn.ensemble import RandomForestRegressor\n",
        "%load_ext google.colab.data_table"
      ]
    },
    {
      "cell_type": "code",
      "source": [
        "df_cars = pd.read_csv('/content/car_data.csv')"
      ],
      "metadata": {
        "id": "sdQAsBHjkvsY"
      },
      "execution_count": 2,
      "outputs": []
    },
    {
      "cell_type": "markdown",
      "source": [
        "**Shape of Data**"
      ],
      "metadata": {
        "id": "mbH3vAfK7m6Y"
      }
    },
    {
      "cell_type": "code",
      "source": [
        "df_cars.shape"
      ],
      "metadata": {
        "colab": {
          "base_uri": "https://localhost:8080/"
        },
        "id": "Sa0TxGMYGHk-",
        "outputId": "3bc1ae58-eb28-4c0a-d345-dce226d7e1a6"
      },
      "execution_count": 3,
      "outputs": [
        {
          "output_type": "execute_result",
          "data": {
            "text/plain": [
              "(80572, 10)"
            ]
          },
          "metadata": {},
          "execution_count": 3
        }
      ]
    },
    {
      "cell_type": "code",
      "source": [
        "df_cars.head()"
      ],
      "metadata": {
        "colab": {
          "base_uri": "https://localhost:8080/",
          "height": 228
        },
        "id": "ke9M0yvgqt5t",
        "outputId": "509976e3-a329-4314-e5e8-57a32cc2fb1d"
      },
      "execution_count": 4,
      "outputs": [
        {
          "output_type": "execute_result",
          "data": {
            "text/plain": [
              "         Make    Model                          Version      Price  Make_Year  \\\n",
              "0       Honda  Insight                              NaN  7400000.0       2019   \n",
              "1  Mitsubishi   Minica                     Black Minica  1065000.0       2019   \n",
              "2        Audi       A6  1.8 TFSI Business Class Edition  9300000.0       2015   \n",
              "3      Toyota     Aqua                                G  2375000.0       2014   \n",
              "4       Honda     City                       1.3 i-VTEC  2600000.0       2017   \n",
              "\n",
              "     CC  Assembly  Mileage Registered City Transmission  \n",
              "0  1500  Imported     2000   Un-Registered    Automatic  \n",
              "1   660  Imported    68000          Lahore    Automatic  \n",
              "2  1800     Local    70000          Lahore    Automatic  \n",
              "3  1500  Imported    99900       Islamabad    Automatic  \n",
              "4  1300     Local    55000       Islamabad       Manual  "
            ],
            "text/html": [
              "\n",
              "  <div id=\"df-b883f3de-7b1c-424a-808a-c5b0f09466d3\">\n",
              "    <div class=\"colab-df-container\">\n",
              "      <div>\n",
              "<style scoped>\n",
              "    .dataframe tbody tr th:only-of-type {\n",
              "        vertical-align: middle;\n",
              "    }\n",
              "\n",
              "    .dataframe tbody tr th {\n",
              "        vertical-align: top;\n",
              "    }\n",
              "\n",
              "    .dataframe thead th {\n",
              "        text-align: right;\n",
              "    }\n",
              "</style>\n",
              "<table border=\"1\" class=\"dataframe\">\n",
              "  <thead>\n",
              "    <tr style=\"text-align: right;\">\n",
              "      <th></th>\n",
              "      <th>Make</th>\n",
              "      <th>Model</th>\n",
              "      <th>Version</th>\n",
              "      <th>Price</th>\n",
              "      <th>Make_Year</th>\n",
              "      <th>CC</th>\n",
              "      <th>Assembly</th>\n",
              "      <th>Mileage</th>\n",
              "      <th>Registered City</th>\n",
              "      <th>Transmission</th>\n",
              "    </tr>\n",
              "  </thead>\n",
              "  <tbody>\n",
              "    <tr>\n",
              "      <th>0</th>\n",
              "      <td>Honda</td>\n",
              "      <td>Insight</td>\n",
              "      <td>NaN</td>\n",
              "      <td>7400000.0</td>\n",
              "      <td>2019</td>\n",
              "      <td>1500</td>\n",
              "      <td>Imported</td>\n",
              "      <td>2000</td>\n",
              "      <td>Un-Registered</td>\n",
              "      <td>Automatic</td>\n",
              "    </tr>\n",
              "    <tr>\n",
              "      <th>1</th>\n",
              "      <td>Mitsubishi</td>\n",
              "      <td>Minica</td>\n",
              "      <td>Black Minica</td>\n",
              "      <td>1065000.0</td>\n",
              "      <td>2019</td>\n",
              "      <td>660</td>\n",
              "      <td>Imported</td>\n",
              "      <td>68000</td>\n",
              "      <td>Lahore</td>\n",
              "      <td>Automatic</td>\n",
              "    </tr>\n",
              "    <tr>\n",
              "      <th>2</th>\n",
              "      <td>Audi</td>\n",
              "      <td>A6</td>\n",
              "      <td>1.8 TFSI Business Class Edition</td>\n",
              "      <td>9300000.0</td>\n",
              "      <td>2015</td>\n",
              "      <td>1800</td>\n",
              "      <td>Local</td>\n",
              "      <td>70000</td>\n",
              "      <td>Lahore</td>\n",
              "      <td>Automatic</td>\n",
              "    </tr>\n",
              "    <tr>\n",
              "      <th>3</th>\n",
              "      <td>Toyota</td>\n",
              "      <td>Aqua</td>\n",
              "      <td>G</td>\n",
              "      <td>2375000.0</td>\n",
              "      <td>2014</td>\n",
              "      <td>1500</td>\n",
              "      <td>Imported</td>\n",
              "      <td>99900</td>\n",
              "      <td>Islamabad</td>\n",
              "      <td>Automatic</td>\n",
              "    </tr>\n",
              "    <tr>\n",
              "      <th>4</th>\n",
              "      <td>Honda</td>\n",
              "      <td>City</td>\n",
              "      <td>1.3 i-VTEC</td>\n",
              "      <td>2600000.0</td>\n",
              "      <td>2017</td>\n",
              "      <td>1300</td>\n",
              "      <td>Local</td>\n",
              "      <td>55000</td>\n",
              "      <td>Islamabad</td>\n",
              "      <td>Manual</td>\n",
              "    </tr>\n",
              "  </tbody>\n",
              "</table>\n",
              "</div>\n",
              "      <button class=\"colab-df-convert\" onclick=\"convertToInteractive('df-b883f3de-7b1c-424a-808a-c5b0f09466d3')\"\n",
              "              title=\"Convert this dataframe to an interactive table.\"\n",
              "              style=\"display:none;\">\n",
              "        \n",
              "  <svg xmlns=\"http://www.w3.org/2000/svg\" height=\"24px\"viewBox=\"0 0 24 24\"\n",
              "       width=\"24px\">\n",
              "    <path d=\"M0 0h24v24H0V0z\" fill=\"none\"/>\n",
              "    <path d=\"M18.56 5.44l.94 2.06.94-2.06 2.06-.94-2.06-.94-.94-2.06-.94 2.06-2.06.94zm-11 1L8.5 8.5l.94-2.06 2.06-.94-2.06-.94L8.5 2.5l-.94 2.06-2.06.94zm10 10l.94 2.06.94-2.06 2.06-.94-2.06-.94-.94-2.06-.94 2.06-2.06.94z\"/><path d=\"M17.41 7.96l-1.37-1.37c-.4-.4-.92-.59-1.43-.59-.52 0-1.04.2-1.43.59L10.3 9.45l-7.72 7.72c-.78.78-.78 2.05 0 2.83L4 21.41c.39.39.9.59 1.41.59.51 0 1.02-.2 1.41-.59l7.78-7.78 2.81-2.81c.8-.78.8-2.07 0-2.86zM5.41 20L4 18.59l7.72-7.72 1.47 1.35L5.41 20z\"/>\n",
              "  </svg>\n",
              "      </button>\n",
              "      \n",
              "  <style>\n",
              "    .colab-df-container {\n",
              "      display:flex;\n",
              "      flex-wrap:wrap;\n",
              "      gap: 12px;\n",
              "    }\n",
              "\n",
              "    .colab-df-convert {\n",
              "      background-color: #E8F0FE;\n",
              "      border: none;\n",
              "      border-radius: 50%;\n",
              "      cursor: pointer;\n",
              "      display: none;\n",
              "      fill: #1967D2;\n",
              "      height: 32px;\n",
              "      padding: 0 0 0 0;\n",
              "      width: 32px;\n",
              "    }\n",
              "\n",
              "    .colab-df-convert:hover {\n",
              "      background-color: #E2EBFA;\n",
              "      box-shadow: 0px 1px 2px rgba(60, 64, 67, 0.3), 0px 1px 3px 1px rgba(60, 64, 67, 0.15);\n",
              "      fill: #174EA6;\n",
              "    }\n",
              "\n",
              "    [theme=dark] .colab-df-convert {\n",
              "      background-color: #3B4455;\n",
              "      fill: #D2E3FC;\n",
              "    }\n",
              "\n",
              "    [theme=dark] .colab-df-convert:hover {\n",
              "      background-color: #434B5C;\n",
              "      box-shadow: 0px 1px 3px 1px rgba(0, 0, 0, 0.15);\n",
              "      filter: drop-shadow(0px 1px 2px rgba(0, 0, 0, 0.3));\n",
              "      fill: #FFFFFF;\n",
              "    }\n",
              "  </style>\n",
              "\n",
              "      <script>\n",
              "        const buttonEl =\n",
              "          document.querySelector('#df-b883f3de-7b1c-424a-808a-c5b0f09466d3 button.colab-df-convert');\n",
              "        buttonEl.style.display =\n",
              "          google.colab.kernel.accessAllowed ? 'block' : 'none';\n",
              "\n",
              "        async function convertToInteractive(key) {\n",
              "          const element = document.querySelector('#df-b883f3de-7b1c-424a-808a-c5b0f09466d3');\n",
              "          const dataTable =\n",
              "            await google.colab.kernel.invokeFunction('convertToInteractive',\n",
              "                                                     [key], {});\n",
              "          if (!dataTable) return;\n",
              "\n",
              "          const docLinkHtml = 'Like what you see? Visit the ' +\n",
              "            '<a target=\"_blank\" href=https://colab.research.google.com/notebooks/data_table.ipynb>data table notebook</a>'\n",
              "            + ' to learn more about interactive tables.';\n",
              "          element.innerHTML = '';\n",
              "          dataTable['output_type'] = 'display_data';\n",
              "          await google.colab.output.renderOutput(dataTable, element);\n",
              "          const docLink = document.createElement('div');\n",
              "          docLink.innerHTML = docLinkHtml;\n",
              "          element.appendChild(docLink);\n",
              "        }\n",
              "      </script>\n",
              "    </div>\n",
              "  </div>\n",
              "  "
            ],
            "application/vnd.google.colaboratory.module+javascript": "\n      import \"https://ssl.gstatic.com/colaboratory/data_table/881c4a0d49046431/data_table.js\";\n\n      const table = window.createDataTable({\n        data: [[{\n            'v': 0,\n            'f': \"0\",\n        },\n\"Honda\",\n\"Insight\",\nNaN,\n\"7400000.0\",\n{\n            'v': 2019,\n            'f': \"2019\",\n        },\n{\n            'v': 1500,\n            'f': \"1500\",\n        },\n\"Imported\",\n{\n            'v': 2000,\n            'f': \"2000\",\n        },\n\"Un-Registered\",\n\"Automatic\"],\n [{\n            'v': 1,\n            'f': \"1\",\n        },\n\"Mitsubishi\",\n\"Minica\",\n\"Black Minica\",\n\"1065000.0\",\n{\n            'v': 2019,\n            'f': \"2019\",\n        },\n{\n            'v': 660,\n            'f': \"660\",\n        },\n\"Imported\",\n{\n            'v': 68000,\n            'f': \"68000\",\n        },\n\"Lahore\",\n\"Automatic\"],\n [{\n            'v': 2,\n            'f': \"2\",\n        },\n\"Audi\",\n\"A6\",\n\"1.8 TFSI Business Class Edition\",\n\"9300000.0\",\n{\n            'v': 2015,\n            'f': \"2015\",\n        },\n{\n            'v': 1800,\n            'f': \"1800\",\n        },\n\"Local\",\n{\n            'v': 70000,\n            'f': \"70000\",\n        },\n\"Lahore\",\n\"Automatic\"],\n [{\n            'v': 3,\n            'f': \"3\",\n        },\n\"Toyota\",\n\"Aqua\",\n\"G\",\n\"2375000.0\",\n{\n            'v': 2014,\n            'f': \"2014\",\n        },\n{\n            'v': 1500,\n            'f': \"1500\",\n        },\n\"Imported\",\n{\n            'v': 99900,\n            'f': \"99900\",\n        },\n\"Islamabad\",\n\"Automatic\"],\n [{\n            'v': 4,\n            'f': \"4\",\n        },\n\"Honda\",\n\"City\",\n\"1.3 i-VTEC\",\n\"2600000.0\",\n{\n            'v': 2017,\n            'f': \"2017\",\n        },\n{\n            'v': 1300,\n            'f': \"1300\",\n        },\n\"Local\",\n{\n            'v': 55000,\n            'f': \"55000\",\n        },\n\"Islamabad\",\n\"Manual\"]],\n        columns: [[\"number\", \"index\"], [\"string\", \"Make\"], [\"string\", \"Model\"], [\"string\", \"Version\"], [\"string\", \"Price\"], [\"number\", \"Make_Year\"], [\"number\", \"CC\"], [\"string\", \"Assembly\"], [\"number\", \"Mileage\"], [\"string\", \"Registered City\"], [\"string\", \"Transmission\"]],\n        columnOptions: [{\"width\": \"1px\", \"className\": \"index_column\"}],\n        rowsPerPage: 25,\n        helpUrl: \"https://colab.research.google.com/notebooks/data_table.ipynb\",\n        suppressOutputScrolling: true,\n        minimumWidth: undefined,\n      });\n      \n      function appendQuickchartButton(parentElement) {\n        let quickchartButtonContainerElement = document.createElement('div');\n        quickchartButtonContainerElement.innerHTML = `\n    <div id=\"df-6a1682c3-28fd-4a25-8aca-574756dba4a3\">\n      <button class=\"colab-df-quickchart\" onclick=\"quickchart('df-6a1682c3-28fd-4a25-8aca-574756dba4a3')\"\n              title=\"Generate charts.\"\n              style=\"display:none;\">\n\n<svg xmlns=\"http://www.w3.org/2000/svg\" height=\"24px\"viewBox=\"0 0 24 24\"\n     width=\"24px\">\n    <g>\n        <path d=\"M19 3H5c-1.1 0-2 .9-2 2v14c0 1.1.9 2 2 2h14c1.1 0 2-.9 2-2V5c0-1.1-.9-2-2-2zM9 17H7v-7h2v7zm4 0h-2V7h2v10zm4 0h-2v-4h2v4z\"/>\n    </g>\n</svg>\n      </button>\n    </div>\n\n<style>\n  .colab-df-quickchart {\n    background-color: #E8F0FE;\n    border: none;\n    border-radius: 50%;\n    cursor: pointer;\n    display: none;\n    fill: #1967D2;\n    height: 32px;\n    padding: 0 0 0 0;\n    width: 32px;\n  }\n\n  .colab-df-quickchart:hover {\n    background-color: #E2EBFA;\n    box-shadow: 0px 1px 2px rgba(60, 64, 67, 0.3), 0px 1px 3px 1px rgba(60, 64, 67, 0.15);\n    fill: #174EA6;\n  }\n\n  [theme=dark] .colab-df-quickchart {\n    background-color: #3B4455;\n    fill: #D2E3FC;\n  }\n\n  [theme=dark] .colab-df-quickchart:hover {\n    background-color: #434B5C;\n    box-shadow: 0px 1px 3px 1px rgba(0, 0, 0, 0.15);\n    filter: drop-shadow(0px 1px 2px rgba(0, 0, 0, 0.3));\n    fill: #FFFFFF;\n  }\n</style>\n\n    <script>\n      async function quickchart(key) {\n        const containerElement = document.querySelector('#' + key);\n        const charts = await google.colab.kernel.invokeFunction(\n            'generateCharts', [key], {});\n      }\n    </script>\n`;\n        parentElement.appendChild(quickchartButtonContainerElement);\n        \nfunction displayQuickchartButton(domScope) {\n  let quickchartButtonEl =\n    domScope.querySelector('#df-6a1682c3-28fd-4a25-8aca-574756dba4a3 button.colab-df-quickchart');\n  quickchartButtonEl.style.display =\n    google.colab.kernel.accessAllowed ? 'block' : 'none';\n}\n\n        displayQuickchartButton(parentElement);\n      }\n\n      appendQuickchartButton(table);\n    "
          },
          "metadata": {},
          "execution_count": 4
        }
      ]
    },
    {
      "cell_type": "markdown",
      "source": [
        "**Showing datatypes of each coloumn**"
      ],
      "metadata": {
        "id": "3x9UcDCD7qd_"
      }
    },
    {
      "cell_type": "code",
      "source": [
        "df_cars.dtypes"
      ],
      "metadata": {
        "colab": {
          "base_uri": "https://localhost:8080/"
        },
        "id": "rU3dGbS1ml4L",
        "outputId": "6dafd801-aa85-42ab-d517-00ccb489c34c"
      },
      "execution_count": 5,
      "outputs": [
        {
          "output_type": "execute_result",
          "data": {
            "text/plain": [
              "Make               object\n",
              "Model              object\n",
              "Version            object\n",
              "Price              object\n",
              "Make_Year           int64\n",
              "CC                  int64\n",
              "Assembly           object\n",
              "Mileage             int64\n",
              "Registered City    object\n",
              "Transmission       object\n",
              "dtype: object"
            ]
          },
          "metadata": {},
          "execution_count": 5
        }
      ]
    },
    {
      "cell_type": "markdown",
      "source": [
        "#Changing price type from object to Float"
      ],
      "metadata": {
        "id": "4OUC5Rqu7wzk"
      }
    },
    {
      "cell_type": "code",
      "source": [
        "df_cars['Price'] = pd.to_numeric(df_cars['Price'], errors='coerce', downcast='integer')\n"
      ],
      "metadata": {
        "id": "9djYulzCqz1H"
      },
      "execution_count": 6,
      "outputs": []
    },
    {
      "cell_type": "markdown",
      "source": [
        "**Checking for Null values in Data**"
      ],
      "metadata": {
        "id": "mYk8AzHo75Y2"
      }
    },
    {
      "cell_type": "code",
      "source": [
        "df_cars.isnull().sum()"
      ],
      "metadata": {
        "colab": {
          "base_uri": "https://localhost:8080/"
        },
        "id": "KZEdCje3s_VR",
        "outputId": "e4a8503f-7d0d-4b4a-8acd-4633c9fe191b"
      },
      "execution_count": 7,
      "outputs": [
        {
          "output_type": "execute_result",
          "data": {
            "text/plain": [
              "Make                  0\n",
              "Model                 0\n",
              "Version            6772\n",
              "Price              1209\n",
              "Make_Year             0\n",
              "CC                    0\n",
              "Assembly              0\n",
              "Mileage               0\n",
              "Registered City       0\n",
              "Transmission          0\n",
              "dtype: int64"
            ]
          },
          "metadata": {},
          "execution_count": 7
        }
      ]
    },
    {
      "cell_type": "markdown",
      "source": [
        "**Substituting for all null Version values with the mean of group having same 'Make', 'Model', 'Assembly' and 'Transmission'**"
      ],
      "metadata": {
        "id": "A8bA8R757_KN"
      }
    },
    {
      "cell_type": "code",
      "source": [
        "# Calculate the mode of 'Version' within each 'Make', 'Model', 'Assembly', and 'Transmission' group\n",
        "mode_Version_by_make_model = df_cars[df_cars['Version'].notna()].groupby(['Make', 'Model', 'Assembly', 'Transmission'])['Version'].agg(lambda x: x.mode().iat[0])\n",
        "\n",
        "# Replace NaN values in the 'Version' column with the mode value of the respective group\n",
        "df_cars.loc[df_cars['Version'].isna(), 'Version'] = df_cars[df_cars['Version'].isna()].apply(\n",
        "    lambda row: mode_Version_by_make_model.get((row['Make'], row['Model'], row['Assembly'], row['Transmission'])),\n",
        "    axis=1\n",
        ")"
      ],
      "metadata": {
        "id": "M_Jns5SVkYbv"
      },
      "execution_count": 8,
      "outputs": []
    },
    {
      "cell_type": "markdown",
      "source": [
        "**After Version null value is filled with mean. There are still some rows which donot belong to any group.**"
      ],
      "metadata": {
        "id": "nsU_cvpX8YT0"
      }
    },
    {
      "cell_type": "code",
      "source": [
        "(df_cars[df_cars['Version'].isna()]).shape"
      ],
      "metadata": {
        "colab": {
          "base_uri": "https://localhost:8080/"
        },
        "id": "Jqmv-36LoZr3",
        "outputId": "b77c9e32-f70e-4223-9b8a-523bce815e6b"
      },
      "execution_count": 9,
      "outputs": [
        {
          "output_type": "execute_result",
          "data": {
            "text/plain": [
              "(726, 10)"
            ]
          },
          "metadata": {},
          "execution_count": 9
        }
      ]
    },
    {
      "cell_type": "markdown",
      "source": [
        "Dropping those values who dont belong to make,model,assembly,transmission group."
      ],
      "metadata": {
        "id": "W0gtnLa-8sQb"
      }
    },
    {
      "cell_type": "code",
      "source": [
        "new_df = df_cars.dropna(subset=['Version'])\n",
        "new_df.shape"
      ],
      "metadata": {
        "colab": {
          "base_uri": "https://localhost:8080/"
        },
        "id": "G8HepeiXGOyf",
        "outputId": "8184f820-21b8-4096-ef4c-73103906653d"
      },
      "execution_count": 10,
      "outputs": [
        {
          "output_type": "execute_result",
          "data": {
            "text/plain": [
              "(79846, 10)"
            ]
          },
          "metadata": {},
          "execution_count": 10
        }
      ]
    },
    {
      "cell_type": "markdown",
      "source": [
        "#Substituting for all null Price values with the mean of group having same 'Make', 'Model', 'Assembly' and 'Transmission'"
      ],
      "metadata": {
        "id": "Y-Run15o9MXr"
      }
    },
    {
      "cell_type": "code",
      "source": [
        "mean_price_by_model = new_df.groupby(['Make', 'Model', 'Version', 'Assembly', 'Transmission'])['Price'].mean()\n",
        "new_df['Price'] = new_df.groupby(['Make', 'Model', 'Version', 'Assembly', 'Transmission'])['Price'].transform(lambda x: x.fillna(mean_price_by_model.get(tuple(x.name))))"
      ],
      "metadata": {
        "colab": {
          "base_uri": "https://localhost:8080/"
        },
        "id": "zwqtLEhFH5if",
        "outputId": "3d4abc36-e31b-48d9-d546-54b2b318e393"
      },
      "execution_count": 11,
      "outputs": [
        {
          "output_type": "stream",
          "name": "stderr",
          "text": [
            "<ipython-input-11-0254f54f3b1f>:2: SettingWithCopyWarning: \n",
            "A value is trying to be set on a copy of a slice from a DataFrame.\n",
            "Try using .loc[row_indexer,col_indexer] = value instead\n",
            "\n",
            "See the caveats in the documentation: https://pandas.pydata.org/pandas-docs/stable/user_guide/indexing.html#returning-a-view-versus-a-copy\n",
            "  new_df['Price'] = new_df.groupby(['Make', 'Model', 'Version', 'Assembly', 'Transmission'])['Price'].transform(lambda x: x.fillna(mean_price_by_model.get(tuple(x.name))))\n"
          ]
        }
      ]
    },
    {
      "cell_type": "markdown",
      "source": [
        "**Dropping values which do not belong to group. Also converting type of price from float to int**"
      ],
      "metadata": {
        "id": "dqzRZ6jZ9jMc"
      }
    },
    {
      "cell_type": "code",
      "source": [
        "new_df = new_df.dropna(subset=['Price'])\n",
        "new_df['Price'] = new_df['Price'].astype(int)"
      ],
      "metadata": {
        "colab": {
          "base_uri": "https://localhost:8080/"
        },
        "id": "BoDEJho71-Pd",
        "outputId": "6cd9798a-3d3f-4624-d1ad-019078447c24"
      },
      "execution_count": 12,
      "outputs": [
        {
          "output_type": "stream",
          "name": "stderr",
          "text": [
            "<ipython-input-12-2b31d5c9f986>:2: SettingWithCopyWarning: \n",
            "A value is trying to be set on a copy of a slice from a DataFrame.\n",
            "Try using .loc[row_indexer,col_indexer] = value instead\n",
            "\n",
            "See the caveats in the documentation: https://pandas.pydata.org/pandas-docs/stable/user_guide/indexing.html#returning-a-view-versus-a-copy\n",
            "  new_df['Price'] = new_df['Price'].astype(int)\n"
          ]
        }
      ]
    },
    {
      "cell_type": "markdown",
      "source": [
        "**No Null Values after applying some preprocessing on given data.**"
      ],
      "metadata": {
        "id": "ud03QmlE9wrE"
      }
    },
    {
      "cell_type": "code",
      "source": [
        "new_df.isnull().sum()"
      ],
      "metadata": {
        "colab": {
          "base_uri": "https://localhost:8080/"
        },
        "id": "kCGms224HEbV",
        "outputId": "aa486cb1-3c67-4b74-a53a-32b2bd7f1ee4"
      },
      "execution_count": 13,
      "outputs": [
        {
          "output_type": "execute_result",
          "data": {
            "text/plain": [
              "Make               0\n",
              "Model              0\n",
              "Version            0\n",
              "Price              0\n",
              "Make_Year          0\n",
              "CC                 0\n",
              "Assembly           0\n",
              "Mileage            0\n",
              "Registered City    0\n",
              "Transmission       0\n",
              "dtype: int64"
            ]
          },
          "metadata": {},
          "execution_count": 13
        }
      ]
    },
    {
      "cell_type": "markdown",
      "source": [
        "**There was some wrong values in CC column. Some cars have CC less tahn 660 and more than 6600. So i just substituted CC value for those cars who have less than 660 and more than 6600.**"
      ],
      "metadata": {
        "id": "rSHJu5rV99oY"
      }
    },
    {
      "cell_type": "code",
      "source": [
        "mean_cc_by_make_model = new_df[(new_df['CC'] >= 660) & (new_df['CC'] <= 6600)].groupby(['Make', 'Model','Version','Transmission'])['CC'].mean()\n",
        "\n",
        "# Replace 'CC' values < 660 with the mean of the respective 'make','Model' and 'version' group\n",
        "new_df.loc[new_df['CC'] < 660, 'CC'] = new_df[new_df['CC'] < 660].apply(lambda row: mean_cc_by_make_model.get((row['Make'], row['Model'],row['Version'],row['Transmission'])), axis=1)\n",
        "new_df.loc[new_df['CC'] > 6000, 'CC'] = new_df[new_df['CC'] > 6000].apply(lambda row: mean_cc_by_make_model.get((row['Make'], row['Model'],row['Version'],row['Transmission'])), axis=1)\n"
      ],
      "metadata": {
        "id": "w3yrUyVTM1SL"
      },
      "execution_count": 14,
      "outputs": []
    },
    {
      "cell_type": "markdown",
      "source": [
        "**There is still One car which do not belong to a group, so i just substituted Automatic transmission CC value in manual car given below.**"
      ],
      "metadata": {
        "id": "vR2fUXq5-WL3"
      }
    },
    {
      "cell_type": "code",
      "source": [
        "new_df[new_df['CC'].isna()]"
      ],
      "metadata": {
        "colab": {
          "base_uri": "https://localhost:8080/",
          "height": 142
        },
        "id": "lgeD-LrwRgb0",
        "outputId": "2101480a-ca63-4a67-9cd9-f54c20eb313b"
      },
      "execution_count": 15,
      "outputs": [
        {
          "output_type": "execute_result",
          "data": {
            "text/plain": [
              "             Make Model Version   Price  Make_Year  CC  Assembly  Mileage  \\\n",
              "68917  Mitsubishi  Town     Box  640000       2014 NaN  Imported    89858   \n",
              "\n",
              "      Registered City Transmission  \n",
              "68917          Lahore       Manual  "
            ],
            "text/html": [
              "\n",
              "  <div id=\"df-92eb8f57-cd3b-4a69-a268-afb57b636187\">\n",
              "    <div class=\"colab-df-container\">\n",
              "      <div>\n",
              "<style scoped>\n",
              "    .dataframe tbody tr th:only-of-type {\n",
              "        vertical-align: middle;\n",
              "    }\n",
              "\n",
              "    .dataframe tbody tr th {\n",
              "        vertical-align: top;\n",
              "    }\n",
              "\n",
              "    .dataframe thead th {\n",
              "        text-align: right;\n",
              "    }\n",
              "</style>\n",
              "<table border=\"1\" class=\"dataframe\">\n",
              "  <thead>\n",
              "    <tr style=\"text-align: right;\">\n",
              "      <th></th>\n",
              "      <th>Make</th>\n",
              "      <th>Model</th>\n",
              "      <th>Version</th>\n",
              "      <th>Price</th>\n",
              "      <th>Make_Year</th>\n",
              "      <th>CC</th>\n",
              "      <th>Assembly</th>\n",
              "      <th>Mileage</th>\n",
              "      <th>Registered City</th>\n",
              "      <th>Transmission</th>\n",
              "    </tr>\n",
              "  </thead>\n",
              "  <tbody>\n",
              "    <tr>\n",
              "      <th>68917</th>\n",
              "      <td>Mitsubishi</td>\n",
              "      <td>Town</td>\n",
              "      <td>Box</td>\n",
              "      <td>640000</td>\n",
              "      <td>2014</td>\n",
              "      <td>NaN</td>\n",
              "      <td>Imported</td>\n",
              "      <td>89858</td>\n",
              "      <td>Lahore</td>\n",
              "      <td>Manual</td>\n",
              "    </tr>\n",
              "  </tbody>\n",
              "</table>\n",
              "</div>\n",
              "      <button class=\"colab-df-convert\" onclick=\"convertToInteractive('df-92eb8f57-cd3b-4a69-a268-afb57b636187')\"\n",
              "              title=\"Convert this dataframe to an interactive table.\"\n",
              "              style=\"display:none;\">\n",
              "        \n",
              "  <svg xmlns=\"http://www.w3.org/2000/svg\" height=\"24px\"viewBox=\"0 0 24 24\"\n",
              "       width=\"24px\">\n",
              "    <path d=\"M0 0h24v24H0V0z\" fill=\"none\"/>\n",
              "    <path d=\"M18.56 5.44l.94 2.06.94-2.06 2.06-.94-2.06-.94-.94-2.06-.94 2.06-2.06.94zm-11 1L8.5 8.5l.94-2.06 2.06-.94-2.06-.94L8.5 2.5l-.94 2.06-2.06.94zm10 10l.94 2.06.94-2.06 2.06-.94-2.06-.94-.94-2.06-.94 2.06-2.06.94z\"/><path d=\"M17.41 7.96l-1.37-1.37c-.4-.4-.92-.59-1.43-.59-.52 0-1.04.2-1.43.59L10.3 9.45l-7.72 7.72c-.78.78-.78 2.05 0 2.83L4 21.41c.39.39.9.59 1.41.59.51 0 1.02-.2 1.41-.59l7.78-7.78 2.81-2.81c.8-.78.8-2.07 0-2.86zM5.41 20L4 18.59l7.72-7.72 1.47 1.35L5.41 20z\"/>\n",
              "  </svg>\n",
              "      </button>\n",
              "      \n",
              "  <style>\n",
              "    .colab-df-container {\n",
              "      display:flex;\n",
              "      flex-wrap:wrap;\n",
              "      gap: 12px;\n",
              "    }\n",
              "\n",
              "    .colab-df-convert {\n",
              "      background-color: #E8F0FE;\n",
              "      border: none;\n",
              "      border-radius: 50%;\n",
              "      cursor: pointer;\n",
              "      display: none;\n",
              "      fill: #1967D2;\n",
              "      height: 32px;\n",
              "      padding: 0 0 0 0;\n",
              "      width: 32px;\n",
              "    }\n",
              "\n",
              "    .colab-df-convert:hover {\n",
              "      background-color: #E2EBFA;\n",
              "      box-shadow: 0px 1px 2px rgba(60, 64, 67, 0.3), 0px 1px 3px 1px rgba(60, 64, 67, 0.15);\n",
              "      fill: #174EA6;\n",
              "    }\n",
              "\n",
              "    [theme=dark] .colab-df-convert {\n",
              "      background-color: #3B4455;\n",
              "      fill: #D2E3FC;\n",
              "    }\n",
              "\n",
              "    [theme=dark] .colab-df-convert:hover {\n",
              "      background-color: #434B5C;\n",
              "      box-shadow: 0px 1px 3px 1px rgba(0, 0, 0, 0.15);\n",
              "      filter: drop-shadow(0px 1px 2px rgba(0, 0, 0, 0.3));\n",
              "      fill: #FFFFFF;\n",
              "    }\n",
              "  </style>\n",
              "\n",
              "      <script>\n",
              "        const buttonEl =\n",
              "          document.querySelector('#df-92eb8f57-cd3b-4a69-a268-afb57b636187 button.colab-df-convert');\n",
              "        buttonEl.style.display =\n",
              "          google.colab.kernel.accessAllowed ? 'block' : 'none';\n",
              "\n",
              "        async function convertToInteractive(key) {\n",
              "          const element = document.querySelector('#df-92eb8f57-cd3b-4a69-a268-afb57b636187');\n",
              "          const dataTable =\n",
              "            await google.colab.kernel.invokeFunction('convertToInteractive',\n",
              "                                                     [key], {});\n",
              "          if (!dataTable) return;\n",
              "\n",
              "          const docLinkHtml = 'Like what you see? Visit the ' +\n",
              "            '<a target=\"_blank\" href=https://colab.research.google.com/notebooks/data_table.ipynb>data table notebook</a>'\n",
              "            + ' to learn more about interactive tables.';\n",
              "          element.innerHTML = '';\n",
              "          dataTable['output_type'] = 'display_data';\n",
              "          await google.colab.output.renderOutput(dataTable, element);\n",
              "          const docLink = document.createElement('div');\n",
              "          docLink.innerHTML = docLinkHtml;\n",
              "          element.appendChild(docLink);\n",
              "        }\n",
              "      </script>\n",
              "    </div>\n",
              "  </div>\n",
              "  "
            ],
            "application/vnd.google.colaboratory.module+javascript": "\n      import \"https://ssl.gstatic.com/colaboratory/data_table/881c4a0d49046431/data_table.js\";\n\n      const table = window.createDataTable({\n        data: [[{\n            'v': 68917,\n            'f': \"68917\",\n        },\n\"Mitsubishi\",\n\"Town\",\n\"Box\",\n{\n            'v': 640000,\n            'f': \"640000\",\n        },\n{\n            'v': 2014,\n            'f': \"2014\",\n        },\n{\n            'v': NaN,\n            'f': \"NaN\",\n        },\n\"Imported\",\n{\n            'v': 89858,\n            'f': \"89858\",\n        },\n\"Lahore\",\n\"Manual\"]],\n        columns: [[\"number\", \"index\"], [\"string\", \"Make\"], [\"string\", \"Model\"], [\"string\", \"Version\"], [\"number\", \"Price\"], [\"number\", \"Make_Year\"], [\"number\", \"CC\"], [\"string\", \"Assembly\"], [\"number\", \"Mileage\"], [\"string\", \"Registered City\"], [\"string\", \"Transmission\"]],\n        columnOptions: [{\"width\": \"1px\", \"className\": \"index_column\"}],\n        rowsPerPage: 25,\n        helpUrl: \"https://colab.research.google.com/notebooks/data_table.ipynb\",\n        suppressOutputScrolling: true,\n        minimumWidth: undefined,\n      });\n      \n      function appendQuickchartButton(parentElement) {\n        let quickchartButtonContainerElement = document.createElement('div');\n        quickchartButtonContainerElement.innerHTML = `\n    <div id=\"df-4a3fbd87-37e1-4ca3-b82a-30a1b380252d\">\n      <button class=\"colab-df-quickchart\" onclick=\"quickchart('df-4a3fbd87-37e1-4ca3-b82a-30a1b380252d')\"\n              title=\"Generate charts.\"\n              style=\"display:none;\">\n\n<svg xmlns=\"http://www.w3.org/2000/svg\" height=\"24px\"viewBox=\"0 0 24 24\"\n     width=\"24px\">\n    <g>\n        <path d=\"M19 3H5c-1.1 0-2 .9-2 2v14c0 1.1.9 2 2 2h14c1.1 0 2-.9 2-2V5c0-1.1-.9-2-2-2zM9 17H7v-7h2v7zm4 0h-2V7h2v10zm4 0h-2v-4h2v4z\"/>\n    </g>\n</svg>\n      </button>\n    </div>\n\n<style>\n  .colab-df-quickchart {\n    background-color: #E8F0FE;\n    border: none;\n    border-radius: 50%;\n    cursor: pointer;\n    display: none;\n    fill: #1967D2;\n    height: 32px;\n    padding: 0 0 0 0;\n    width: 32px;\n  }\n\n  .colab-df-quickchart:hover {\n    background-color: #E2EBFA;\n    box-shadow: 0px 1px 2px rgba(60, 64, 67, 0.3), 0px 1px 3px 1px rgba(60, 64, 67, 0.15);\n    fill: #174EA6;\n  }\n\n  [theme=dark] .colab-df-quickchart {\n    background-color: #3B4455;\n    fill: #D2E3FC;\n  }\n\n  [theme=dark] .colab-df-quickchart:hover {\n    background-color: #434B5C;\n    box-shadow: 0px 1px 3px 1px rgba(0, 0, 0, 0.15);\n    filter: drop-shadow(0px 1px 2px rgba(0, 0, 0, 0.3));\n    fill: #FFFFFF;\n  }\n</style>\n\n    <script>\n      async function quickchart(key) {\n        const containerElement = document.querySelector('#' + key);\n        const charts = await google.colab.kernel.invokeFunction(\n            'generateCharts', [key], {});\n      }\n    </script>\n`;\n        parentElement.appendChild(quickchartButtonContainerElement);\n        \nfunction displayQuickchartButton(domScope) {\n  let quickchartButtonEl =\n    domScope.querySelector('#df-4a3fbd87-37e1-4ca3-b82a-30a1b380252d button.colab-df-quickchart');\n  quickchartButtonEl.style.display =\n    google.colab.kernel.accessAllowed ? 'block' : 'none';\n}\n\n        displayQuickchartButton(parentElement);\n      }\n\n      appendQuickchartButton(table);\n    "
          },
          "metadata": {},
          "execution_count": 15
        }
      ]
    },
    {
      "cell_type": "code",
      "source": [
        "new_df.loc[68917,'CC'] = 660\n",
        "new_df['CC'] = new_df['CC'].astype(int)"
      ],
      "metadata": {
        "id": "G1QA3O0PWQXL"
      },
      "execution_count": 16,
      "outputs": []
    },
    {
      "cell_type": "markdown",
      "source": [
        "#Used LabelEncoder to convert String data in Int data so that linear regression and polynomial regression model can work on it."
      ],
      "metadata": {
        "id": "dCvwGt6N--5Z"
      }
    },
    {
      "cell_type": "code",
      "source": [
        "label_dataset = LabelEncoder()\n",
        "\n",
        "columns_to_encode = ['Transmission', 'Registered City', 'Assembly', 'Make', 'Model', 'Version']\n",
        "\n",
        "new_df[columns_to_encode] = new_df[columns_to_encode].apply(lambda x: label_dataset.fit_transform(x))"
      ],
      "metadata": {
        "id": "rkRG-f1K24fR"
      },
      "execution_count": 17,
      "outputs": []
    },
    {
      "cell_type": "markdown",
      "source": [
        "**All columns are converted to integer value**"
      ],
      "metadata": {
        "id": "oIPngvKv_NZi"
      }
    },
    {
      "cell_type": "code",
      "source": [
        "new_df"
      ],
      "metadata": {
        "colab": {
          "base_uri": "https://localhost:8080/",
          "height": 442
        },
        "id": "jd2ZemcxxP92",
        "outputId": "b50dbb25-1f64-44c5-e47b-941b109e38b2"
      },
      "execution_count": 18,
      "outputs": [
        {
          "output_type": "stream",
          "name": "stdout",
          "text": [
            "Warning: total number of rows (79827) exceeds max_rows (20000). Falling back to pandas display.\n"
          ]
        },
        {
          "output_type": "execute_result",
          "data": {
            "text/plain": [
              "       Make  Model  Version    Price  Make_Year    CC  Assembly  Mileage  \\\n",
              "0        17    124      692  7400000       2019  1500         0     2000   \n",
              "1        34    158      304  1065000       2019   660         0    68000   \n",
              "2         0     12       75  9300000       2015  1800         1    70000   \n",
              "3        47     23      600  2375000       2014  1500         0    99900   \n",
              "4        17     64       36  2600000       2017  1300         1    55000   \n",
              "...     ...    ...      ...      ...        ...   ...       ...      ...   \n",
              "80567    45     40     1137   750000       2015   800         1    98000   \n",
              "80568    45     22     1144  1480000       2020   660         1     7800   \n",
              "80569    47     70      672  2700000       2016  1300         1    81000   \n",
              "80570    12    264     1038   600000       2013  1000         1        2   \n",
              "80571    17     65     1133  2620000       2013  1800         0   100000   \n",
              "\n",
              "       Registered City  Transmission  \n",
              "0                  177             0  \n",
              "1                   96             0  \n",
              "2                   96             0  \n",
              "3                   65             0  \n",
              "4                   65             1  \n",
              "...                ...           ...  \n",
              "80567               96             1  \n",
              "80568               79             1  \n",
              "80569               65             0  \n",
              "80570               96             1  \n",
              "80571               65             0  \n",
              "\n",
              "[79827 rows x 10 columns]"
            ],
            "text/html": [
              "\n",
              "  <div id=\"df-68c83445-df87-4e58-ade6-f7bd73e937df\">\n",
              "    <div class=\"colab-df-container\">\n",
              "      <div>\n",
              "<style scoped>\n",
              "    .dataframe tbody tr th:only-of-type {\n",
              "        vertical-align: middle;\n",
              "    }\n",
              "\n",
              "    .dataframe tbody tr th {\n",
              "        vertical-align: top;\n",
              "    }\n",
              "\n",
              "    .dataframe thead th {\n",
              "        text-align: right;\n",
              "    }\n",
              "</style>\n",
              "<table border=\"1\" class=\"dataframe\">\n",
              "  <thead>\n",
              "    <tr style=\"text-align: right;\">\n",
              "      <th></th>\n",
              "      <th>Make</th>\n",
              "      <th>Model</th>\n",
              "      <th>Version</th>\n",
              "      <th>Price</th>\n",
              "      <th>Make_Year</th>\n",
              "      <th>CC</th>\n",
              "      <th>Assembly</th>\n",
              "      <th>Mileage</th>\n",
              "      <th>Registered City</th>\n",
              "      <th>Transmission</th>\n",
              "    </tr>\n",
              "  </thead>\n",
              "  <tbody>\n",
              "    <tr>\n",
              "      <th>0</th>\n",
              "      <td>17</td>\n",
              "      <td>124</td>\n",
              "      <td>692</td>\n",
              "      <td>7400000</td>\n",
              "      <td>2019</td>\n",
              "      <td>1500</td>\n",
              "      <td>0</td>\n",
              "      <td>2000</td>\n",
              "      <td>177</td>\n",
              "      <td>0</td>\n",
              "    </tr>\n",
              "    <tr>\n",
              "      <th>1</th>\n",
              "      <td>34</td>\n",
              "      <td>158</td>\n",
              "      <td>304</td>\n",
              "      <td>1065000</td>\n",
              "      <td>2019</td>\n",
              "      <td>660</td>\n",
              "      <td>0</td>\n",
              "      <td>68000</td>\n",
              "      <td>96</td>\n",
              "      <td>0</td>\n",
              "    </tr>\n",
              "    <tr>\n",
              "      <th>2</th>\n",
              "      <td>0</td>\n",
              "      <td>12</td>\n",
              "      <td>75</td>\n",
              "      <td>9300000</td>\n",
              "      <td>2015</td>\n",
              "      <td>1800</td>\n",
              "      <td>1</td>\n",
              "      <td>70000</td>\n",
              "      <td>96</td>\n",
              "      <td>0</td>\n",
              "    </tr>\n",
              "    <tr>\n",
              "      <th>3</th>\n",
              "      <td>47</td>\n",
              "      <td>23</td>\n",
              "      <td>600</td>\n",
              "      <td>2375000</td>\n",
              "      <td>2014</td>\n",
              "      <td>1500</td>\n",
              "      <td>0</td>\n",
              "      <td>99900</td>\n",
              "      <td>65</td>\n",
              "      <td>0</td>\n",
              "    </tr>\n",
              "    <tr>\n",
              "      <th>4</th>\n",
              "      <td>17</td>\n",
              "      <td>64</td>\n",
              "      <td>36</td>\n",
              "      <td>2600000</td>\n",
              "      <td>2017</td>\n",
              "      <td>1300</td>\n",
              "      <td>1</td>\n",
              "      <td>55000</td>\n",
              "      <td>65</td>\n",
              "      <td>1</td>\n",
              "    </tr>\n",
              "    <tr>\n",
              "      <th>...</th>\n",
              "      <td>...</td>\n",
              "      <td>...</td>\n",
              "      <td>...</td>\n",
              "      <td>...</td>\n",
              "      <td>...</td>\n",
              "      <td>...</td>\n",
              "      <td>...</td>\n",
              "      <td>...</td>\n",
              "      <td>...</td>\n",
              "      <td>...</td>\n",
              "    </tr>\n",
              "    <tr>\n",
              "      <th>80567</th>\n",
              "      <td>45</td>\n",
              "      <td>40</td>\n",
              "      <td>1137</td>\n",
              "      <td>750000</td>\n",
              "      <td>2015</td>\n",
              "      <td>800</td>\n",
              "      <td>1</td>\n",
              "      <td>98000</td>\n",
              "      <td>96</td>\n",
              "      <td>1</td>\n",
              "    </tr>\n",
              "    <tr>\n",
              "      <th>80568</th>\n",
              "      <td>45</td>\n",
              "      <td>22</td>\n",
              "      <td>1144</td>\n",
              "      <td>1480000</td>\n",
              "      <td>2020</td>\n",
              "      <td>660</td>\n",
              "      <td>1</td>\n",
              "      <td>7800</td>\n",
              "      <td>79</td>\n",
              "      <td>1</td>\n",
              "    </tr>\n",
              "    <tr>\n",
              "      <th>80569</th>\n",
              "      <td>47</td>\n",
              "      <td>70</td>\n",
              "      <td>672</td>\n",
              "      <td>2700000</td>\n",
              "      <td>2016</td>\n",
              "      <td>1300</td>\n",
              "      <td>1</td>\n",
              "      <td>81000</td>\n",
              "      <td>65</td>\n",
              "      <td>0</td>\n",
              "    </tr>\n",
              "    <tr>\n",
              "      <th>80570</th>\n",
              "      <td>12</td>\n",
              "      <td>264</td>\n",
              "      <td>1038</td>\n",
              "      <td>600000</td>\n",
              "      <td>2013</td>\n",
              "      <td>1000</td>\n",
              "      <td>1</td>\n",
              "      <td>2</td>\n",
              "      <td>96</td>\n",
              "      <td>1</td>\n",
              "    </tr>\n",
              "    <tr>\n",
              "      <th>80571</th>\n",
              "      <td>17</td>\n",
              "      <td>65</td>\n",
              "      <td>1133</td>\n",
              "      <td>2620000</td>\n",
              "      <td>2013</td>\n",
              "      <td>1800</td>\n",
              "      <td>0</td>\n",
              "      <td>100000</td>\n",
              "      <td>65</td>\n",
              "      <td>0</td>\n",
              "    </tr>\n",
              "  </tbody>\n",
              "</table>\n",
              "<p>79827 rows × 10 columns</p>\n",
              "</div>\n",
              "      <button class=\"colab-df-convert\" onclick=\"convertToInteractive('df-68c83445-df87-4e58-ade6-f7bd73e937df')\"\n",
              "              title=\"Convert this dataframe to an interactive table.\"\n",
              "              style=\"display:none;\">\n",
              "        \n",
              "  <svg xmlns=\"http://www.w3.org/2000/svg\" height=\"24px\"viewBox=\"0 0 24 24\"\n",
              "       width=\"24px\">\n",
              "    <path d=\"M0 0h24v24H0V0z\" fill=\"none\"/>\n",
              "    <path d=\"M18.56 5.44l.94 2.06.94-2.06 2.06-.94-2.06-.94-.94-2.06-.94 2.06-2.06.94zm-11 1L8.5 8.5l.94-2.06 2.06-.94-2.06-.94L8.5 2.5l-.94 2.06-2.06.94zm10 10l.94 2.06.94-2.06 2.06-.94-2.06-.94-.94-2.06-.94 2.06-2.06.94z\"/><path d=\"M17.41 7.96l-1.37-1.37c-.4-.4-.92-.59-1.43-.59-.52 0-1.04.2-1.43.59L10.3 9.45l-7.72 7.72c-.78.78-.78 2.05 0 2.83L4 21.41c.39.39.9.59 1.41.59.51 0 1.02-.2 1.41-.59l7.78-7.78 2.81-2.81c.8-.78.8-2.07 0-2.86zM5.41 20L4 18.59l7.72-7.72 1.47 1.35L5.41 20z\"/>\n",
              "  </svg>\n",
              "      </button>\n",
              "      \n",
              "  <style>\n",
              "    .colab-df-container {\n",
              "      display:flex;\n",
              "      flex-wrap:wrap;\n",
              "      gap: 12px;\n",
              "    }\n",
              "\n",
              "    .colab-df-convert {\n",
              "      background-color: #E8F0FE;\n",
              "      border: none;\n",
              "      border-radius: 50%;\n",
              "      cursor: pointer;\n",
              "      display: none;\n",
              "      fill: #1967D2;\n",
              "      height: 32px;\n",
              "      padding: 0 0 0 0;\n",
              "      width: 32px;\n",
              "    }\n",
              "\n",
              "    .colab-df-convert:hover {\n",
              "      background-color: #E2EBFA;\n",
              "      box-shadow: 0px 1px 2px rgba(60, 64, 67, 0.3), 0px 1px 3px 1px rgba(60, 64, 67, 0.15);\n",
              "      fill: #174EA6;\n",
              "    }\n",
              "\n",
              "    [theme=dark] .colab-df-convert {\n",
              "      background-color: #3B4455;\n",
              "      fill: #D2E3FC;\n",
              "    }\n",
              "\n",
              "    [theme=dark] .colab-df-convert:hover {\n",
              "      background-color: #434B5C;\n",
              "      box-shadow: 0px 1px 3px 1px rgba(0, 0, 0, 0.15);\n",
              "      filter: drop-shadow(0px 1px 2px rgba(0, 0, 0, 0.3));\n",
              "      fill: #FFFFFF;\n",
              "    }\n",
              "  </style>\n",
              "\n",
              "      <script>\n",
              "        const buttonEl =\n",
              "          document.querySelector('#df-68c83445-df87-4e58-ade6-f7bd73e937df button.colab-df-convert');\n",
              "        buttonEl.style.display =\n",
              "          google.colab.kernel.accessAllowed ? 'block' : 'none';\n",
              "\n",
              "        async function convertToInteractive(key) {\n",
              "          const element = document.querySelector('#df-68c83445-df87-4e58-ade6-f7bd73e937df');\n",
              "          const dataTable =\n",
              "            await google.colab.kernel.invokeFunction('convertToInteractive',\n",
              "                                                     [key], {});\n",
              "          if (!dataTable) return;\n",
              "\n",
              "          const docLinkHtml = 'Like what you see? Visit the ' +\n",
              "            '<a target=\"_blank\" href=https://colab.research.google.com/notebooks/data_table.ipynb>data table notebook</a>'\n",
              "            + ' to learn more about interactive tables.';\n",
              "          element.innerHTML = '';\n",
              "          dataTable['output_type'] = 'display_data';\n",
              "          await google.colab.output.renderOutput(dataTable, element);\n",
              "          const docLink = document.createElement('div');\n",
              "          docLink.innerHTML = docLinkHtml;\n",
              "          element.appendChild(docLink);\n",
              "        }\n",
              "      </script>\n",
              "    </div>\n",
              "  </div>\n",
              "  "
            ]
          },
          "metadata": {},
          "execution_count": 18
        }
      ]
    },
    {
      "cell_type": "markdown",
      "source": [
        "#Plotting Price again Mileage so that we can view how our price is behaving with Mileage run."
      ],
      "metadata": {
        "id": "w7PNfp6a_VWK"
      }
    },
    {
      "cell_type": "code",
      "source": [
        "x = new_df['Mileage']\n",
        "y = new_df['Price']\n",
        "\n",
        "# Create a scatter plot\n",
        "plt.scatter(x, y)\n",
        "\n",
        "# Add labels and title\n",
        "plt.xlabel('X')\n",
        "plt.ylabel('Y')\n",
        "plt.title('Scatter Plot')\n",
        "\n",
        "plt.show()"
      ],
      "metadata": {
        "colab": {
          "base_uri": "https://localhost:8080/",
          "height": 472
        },
        "id": "eWpTME80ut8D",
        "outputId": "c12098c6-672c-4960-a846-143fc837688c"
      },
      "execution_count": 19,
      "outputs": [
        {
          "output_type": "display_data",
          "data": {
            "text/plain": [
              "<Figure size 640x480 with 1 Axes>"
            ],
            "image/png": "[encoded data removed]"
          },
          "metadata": {}
        }
      ]
    },
    {
      "cell_type": "markdown",
      "source": [
        "#Printing all columns correlation with Price. So that if any column has minimum effect we can just ignore it.\n",
        "\n",
        "#Make and Model do not have soo much impact on RandomForest as model R2 score with column is 0.94 and without make and model is 0.91"
      ],
      "metadata": {
        "id": "Z2rY6Ssv_o5t"
      }
    },
    {
      "cell_type": "code",
      "source": [
        "columns = new_df.columns\n",
        "for column in columns:\n",
        "  if(column!='Price'):\n",
        "    x = new_df[column]\n",
        "    y = new_df['Price']\n",
        "\n",
        "    # Calculate the correlation coefficient\n",
        "    correlation = np.corrcoef(x, y)[0, 1]\n",
        "\n",
        "    \n",
        "    print(f\"Correlation between {column} and Price is: \", correlation)"
      ],
      "metadata": {
        "colab": {
          "base_uri": "https://localhost:8080/"
        },
        "id": "LH0ZBCo5u5Iw",
        "outputId": "af3cecff-bf18-48e5-a142-d6ba209ca2c3"
      },
      "execution_count": 20,
      "outputs": [
        {
          "output_type": "stream",
          "name": "stdout",
          "text": [
            "Correlation between Make and Price is:  0.010880920207382612\n",
            "Correlation between Model and Price is:  0.09528481565635759\n",
            "Correlation between Version and Price is:  -0.15650510356692537\n",
            "Correlation between Make_Year and Price is:  0.24333382573978352\n",
            "Correlation between CC and Price is:  0.6634186770376872\n",
            "Correlation between Assembly and Price is:  -0.24566875736332122\n",
            "Correlation between Mileage and Price is:  -0.16132875766624982\n",
            "Correlation between Registered City and Price is:  0.1981351323061547\n",
            "Correlation between Transmission and Price is:  -0.3555037478748161\n"
          ]
        }
      ]
    },
    {
      "cell_type": "code",
      "source": [
        "new_df.info()"
      ],
      "metadata": {
        "colab": {
          "base_uri": "https://localhost:8080/"
        },
        "id": "3rG0mUPW7-Jp",
        "outputId": "9021abee-a25c-45b5-e86a-d3ec9e77c29a"
      },
      "execution_count": 21,
      "outputs": [
        {
          "output_type": "stream",
          "name": "stdout",
          "text": [
            "<class 'pandas.core.frame.DataFrame'>\n",
            "Int64Index: 79827 entries, 0 to 80571\n",
            "Data columns (total 10 columns):\n",
            " #   Column           Non-Null Count  Dtype\n",
            "---  ------           --------------  -----\n",
            " 0   Make             79827 non-null  int64\n",
            " 1   Model            79827 non-null  int64\n",
            " 2   Version          79827 non-null  int64\n",
            " 3   Price            79827 non-null  int64\n",
            " 4   Make_Year        79827 non-null  int64\n",
            " 5   CC               79827 non-null  int64\n",
            " 6   Assembly         79827 non-null  int64\n",
            " 7   Mileage          79827 non-null  int64\n",
            " 8   Registered City  79827 non-null  int64\n",
            " 9   Transmission     79827 non-null  int64\n",
            "dtypes: int64(10)\n",
            "memory usage: 8.7 MB\n"
          ]
        }
      ]
    },
    {
      "cell_type": "markdown",
      "source": [
        "**Creating X and y data so that model can be trained**"
      ],
      "metadata": {
        "id": "-lX4IM9cAQ4K"
      }
    },
    {
      "cell_type": "code",
      "source": [
        "X = new_df.drop(['Price'],axis=1)\n",
        "y = new_df['Price']"
      ],
      "metadata": {
        "id": "AfyyIsVPRhSH"
      },
      "execution_count": 22,
      "outputs": []
    },
    {
      "cell_type": "markdown",
      "source": [
        "**Splitting the data 80% for training**"
      ],
      "metadata": {
        "id": "Eox2o-7iAgfg"
      }
    },
    {
      "cell_type": "code",
      "source": [
        "X_train,X_test,y_train,y_test = train_test_split(X,y,train_size=0.8,random_state=42)"
      ],
      "metadata": {
        "id": "Bm9AChNu2jX9"
      },
      "execution_count": 23,
      "outputs": []
    },
    {
      "cell_type": "markdown",
      "source": [
        "#Standard Scaler to scale data"
      ],
      "metadata": {
        "id": "llre68LpCBSN"
      }
    },
    {
      "cell_type": "code",
      "source": [
        "sc = StandardScaler()\n",
        "X_train= sc.fit_transform(X_train)\n",
        "X_test= sc.transform(X_test)"
      ],
      "metadata": {
        "id": "p3Iix2gWCAG2"
      },
      "execution_count": 24,
      "outputs": []
    },
    {
      "cell_type": "markdown",
      "source": [
        "#Linear Regression Model with an R2 score of 0.54."
      ],
      "metadata": {
        "id": "zZZerPglAm37"
      }
    },
    {
      "cell_type": "code",
      "source": [
        "#Standard Scaler to scale data\n",
        "regr = LinearRegression()\n",
        "regr.fit(X_train, y_train)\n",
        "pred_test = (regr.predict(X_test))\n",
        "print(\"R2 Score: %.2f\" % r2_score(y_test, pred_test))"
      ],
      "metadata": {
        "id": "6Tg_l2m89_4I",
        "colab": {
          "base_uri": "https://localhost:8080/"
        },
        "outputId": "b322659e-f0a3-4cb4-b89f-bad6ec503cf8"
      },
      "execution_count": 25,
      "outputs": [
        {
          "output_type": "stream",
          "name": "stdout",
          "text": [
            "R2 Score: 0.54\n"
          ]
        }
      ]
    },
    {
      "cell_type": "markdown",
      "source": [
        "#Linear Regression with Polynomial features gives R2_score of 0.90"
      ],
      "metadata": {
        "id": "euqv8P39Av6g"
      }
    },
    {
      "cell_type": "code",
      "source": [
        "# Set the desired degree\n",
        "poly = PolynomialFeatures(degree=5)\n",
        "X_train_poly = poly.fit_transform(X_train)\n",
        "X_test_poly = poly.transform(X_test)\n",
        "\n",
        "# Fit the polynomial regression model\n",
        "model = LinearRegression()\n",
        "model.fit(X_train_poly, y_train)\n",
        "\n",
        "# Predict on the training and testing sets\n",
        "y_train_pred = model.predict(X_train_poly)\n",
        "y_test_pred = model.predict(X_test_poly)\n",
        "\n",
        "\n",
        "\n",
        "print(\"R2 Score: %.2f\" % r2_score(y_test, y_test_pred))\n"
      ],
      "metadata": {
        "colab": {
          "base_uri": "https://localhost:8080/"
        },
        "id": "GeQprhmp-KmX",
        "outputId": "22edeb19-8561-4292-c543-e5f5a9c622d6"
      },
      "execution_count": 26,
      "outputs": [
        {
          "output_type": "stream",
          "name": "stdout",
          "text": [
            "R2 Score: 0.90\n"
          ]
        }
      ]
    },
    {
      "cell_type": "markdown",
      "source": [
        "#RandomForestRegressor Model with R2_score as 0.94"
      ],
      "metadata": {
        "id": "CesGMNDFA5dI"
      }
    },
    {
      "cell_type": "code",
      "source": [
        "# Create a Random Forest regressor\n",
        "rf_regressor = RandomForestRegressor(n_estimators=100, random_state=42)\n",
        "rf_regressor.fit(X_train, y_train)\n",
        "y_pred = rf_regressor.predict(X_test)\n",
        "\n",
        "\n",
        "print(\"R2 Score: %.2f\" % r2_score(y_test, y_pred))"
      ],
      "metadata": {
        "colab": {
          "base_uri": "https://localhost:8080/"
        },
        "id": "ZBDgxswqzXVs",
        "outputId": "33039358-1a1f-4fb5-c0e5-aedfe1dedfa9"
      },
      "execution_count": 27,
      "outputs": [
        {
          "output_type": "stream",
          "name": "stdout",
          "text": [
            "R2 Score: 0.94\n"
          ]
        }
      ]
    },
    {
      "cell_type": "markdown",
      "source": [
        "#RandomForest is more accurate also less overfitted model beacause in polynomial we are using polynomial till 5th power which makes it a bit overfitted."
      ],
      "metadata": {
        "id": "6lLjltmRCb3l"
      }
    }
  ]
}